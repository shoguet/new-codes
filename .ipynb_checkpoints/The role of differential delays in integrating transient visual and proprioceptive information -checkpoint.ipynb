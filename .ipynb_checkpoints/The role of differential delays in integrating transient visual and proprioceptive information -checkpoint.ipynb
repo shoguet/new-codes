{
 "cells": [
  {
   "cell_type": "code",
   "execution_count": 2,
   "metadata": {},
   "outputs": [],
   "source": [
    "import numpy as np\n",
    "import matplotlib.pyplot as plt\n",
    "plt.style.use('grayscale')"
   ]
  },
  {
   "cell_type": "markdown",
   "metadata": {},
   "source": [
    "**Figure 2A from \"The role of differential delays in integrating transient visual and proprioceptive information\"**"
   ]
  },
  {
   "cell_type": "code",
   "execution_count": 3,
   "metadata": {},
   "outputs": [
    {
     "data": {
      "image/png": "[encoded data removed]",
      "text/plain": [
       "<Figure size 360x432 with 1 Axes>"
      ]
     },
     "metadata": {},
     "output_type": "display_data"
    }
   ],
   "source": [
    "#create the velocity profile. fig 2A. The goal is to get a velocity profile that looks similar to figure 2A\n",
    "\n",
    "#create time variable (t). This should be a vector from 0 to 2.5 with 2500 timesteps.\n",
    "\n",
    "t = #how do we create the time vector\n",
    "\n",
    "#next we create a velocity vector with zeros in it. The length of the vector is the same as the length of t. This is because \n",
    "#we need to plot the velocity vs time (figure 2A)\n",
    "v = np.zeros(len(t))\n",
    "\n",
    "for i in range(len(t)):\n",
    "    \n",
    "    #look at figure 2A. How does the velocity behaves as a function of time before 0.4s. How do we find the velocity between \n",
    "    #0 and 0.4\n",
    "    \n",
    "    if t[i] < 0.4:\n",
    "        \n",
    "        v[i] = #what's here?\n",
    "    \n",
    "    #what happens after 0.4s (it looks like the velocity is decreasing after 0.4 but it is not as smooth) So how do we implement\n",
    "    #this part of the figure 2A. I have done this part for you. \n",
    "    \n",
    "    else:\n",
    "        \n",
    "        if i % 50 == 0:#here I am basically adding random noise when if the iteration is divisible by 50\n",
    "            \n",
    "            noise = np.random.normal(0, 1)\n",
    "    \n",
    "        v[i] = 22 - 2.38 * t[i] + noise #adding random noise to the velocity which is decreasing \n",
    "\n",
    "\n",
    "#calcualte the position. I have the position calculated here. But think about how to calculate the position when you know the\n",
    "#velocity from calculus.\n",
    "p = [sum(v[:i])/1000 for i in range(len(v))]\n",
    "        \n",
    "        \n",
    "#plot the time (t) and velocity(v) calculated above. This should look similar to figure 2A. The figure will look like below if \n",
    "#done correctly"
   ]
  },
  {
   "cell_type": "markdown",
   "metadata": {},
   "source": [
    "**Figure 2B**"
   ]
  },
  {
   "cell_type": "code",
   "execution_count": null,
   "metadata": {},
   "outputs": [],
   "source": [
    "#these are the delays mentioned in the paper.\n",
    "d30 = 0.03\n",
    "d40 = 0.04\n",
    "d50 = 0.05\n",
    "d60 = 0.06\n",
    "\n",
    "\n",
    "#Lets create a function called bias so that we won't have to repeate the process for each time delay. The inputs of the function\n",
    "#is the delay and the position.\n",
    "def bias(delay, position):\n",
    "    \n",
    "    #what is sigma_v and sigma_p they used in the paper for simulations. I have sigma_p for you.\n",
    "    sigma_v = #?\n",
    "    sigma_p = 1\n",
    "\n",
    "    #calculate the weights\n",
    "    w_v = #how do you calculate the weight for vision\n",
    "    w_p = #how do you calculate the weight for proprioception\n",
    "\n",
    "    #create a array to append the values for the bias for the delay. t is similar to the time above.\n",
    "    pos_pv = np.zeros(len(t))\n",
    "    \n",
    "    #running a loop to calculate where you think the hand is according to prop and vis\n",
    "    for i in range(len(t)):\n",
    "        \n",
    "        #in the paper they assume that there is no delay in proprioception. So the bias is calculated by prop at the \n",
    "        #begining.\n",
    "        if i < delay*1000:\n",
    "            \n",
    "            pos_pv[i] = w_p * p[i]\n",
    "        \n",
    "        #once the time reaches the delay now both vision and proprioception leads to the bias.\n",
    "        else:\n",
    "            \n",
    "            iv = i - int(delay*1000)\n",
    "            \n",
    "            #now how do we calculate the bias. \n",
    "            pos_pv[i] = #this is a bit tricky\n",
    "            \n",
    "    return position - pos_pv #the bias is position - pos_pv (where you think the hand is)"
   ]
  }
 ],
 "metadata": {
  "kernelspec": {
   "display_name": "Python 3",
   "language": "python",
   "name": "python3"
  },
  "language_info": {
   "codemirror_mode": {
    "name": "ipython",
    "version": 3
   },
   "file_extension": ".py",
   "mimetype": "text/x-python",
   "name": "python",
   "nbconvert_exporter": "python",
   "pygments_lexer": "ipython3",
   "version": "3.7.6"
  }
 },
 "nbformat": 4,
 "nbformat_minor": 4
}
